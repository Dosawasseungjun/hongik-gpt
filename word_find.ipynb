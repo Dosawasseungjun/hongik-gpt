{
 "cells": [
  {
   "cell_type": "code",
   "execution_count": 1,
   "metadata": {},
   "outputs": [],
   "source": [
    "file_path = \"dataset/all_data.txt\""
   ]
  },
  {
   "cell_type": "code",
   "execution_count": 3,
   "metadata": {},
   "outputs": [
    {
     "name": "stdout",
     "output_type": "stream",
     "text": [
      "36\n"
     ]
    }
   ],
   "source": [
    "texts=[]\n",
    "criterias=[\"학식\"]\n",
    "with open(file_path,'r') as f:\n",
    "    for text in f.readlines():\n",
    "        for criteria in criterias:\n",
    "            if criteria in text:\n",
    "                texts.append(text)\n",
    "                break\n",
    "print(len(texts))"
   ]
  },
  {
   "cell_type": "code",
   "execution_count": 4,
   "metadata": {},
   "outputs": [
    {
     "name": "stdout",
     "output_type": "stream",
     "text": [
      "난 대학교 학식이 먹고 싶어!\n",
      "\n",
      "대학교 학식은 일반인도 먹을 수 있어 키키\n",
      "\n",
      "그러면 이번 주에 학식이나 먹으러 가 볼까 키키\n",
      "\n",
      "난 학식 돈까스 먹어 보고 싶었는데\n",
      "\n",
      "학식 돈까스 언제 나오려나 키키\n",
      "\n",
      "네 그리고 학식을 먹는 개 좋더라구요\n",
      "\n",
      "학식은 영양사가 하루 영양소에 맞춰서 식단을 짜주니까 좋아\n",
      "\n",
      "학식 좋아했어?\n",
      "\n",
      "오늘 학식 뭐나오냐면\n",
      "\n",
      "학식 맛있어?\n",
      "\n",
      "울학교 학식 원래 맛이 없었는대\n",
      "\n",
      "우리학교 학식은 별로인듯 ㅠ\n",
      "\n",
      "키키 오늘은 짬뽕이야 학식이 짬뽕이라,\n",
      "\n",
      "와 학식 오랜만이다 ㅠㅠ\n",
      "\n",
      "나 오늘 밥 학식 먹을거양\n",
      "\n",
      "학식\n",
      "\n",
      "학식 머먹어\n",
      "\n",
      "동생 입학식 다녀왔어~\n",
      "\n",
      "아니ㅋ 둘째 동생 대학교 입학식\n",
      "\n",
      "아니 난 학식이 너무 먹고 싶더라고!\n",
      "\n",
      "너네 학교 학식 맛 없어?\n",
      "\n",
      "대학교 수업 마치고 애들이랑 학식 먹는 로망있었는데...\n",
      "\n",
      "나는 학식 먹었어\n",
      "\n",
      "그리고 이번에 가을학기 입학식은 꼭 출석해야 하나요\n",
      "\n",
      "아닙니다 입학식 참석은 선택사항이라 참석 안하셔도 됩니다\n",
      "\n",
      "네 학과모임이라든가 입학식 졸업식등은 모두 진행되고 있지만요\n",
      "\n",
      "입학식에 꼭 참석해야하는지 궁금합니다\n",
      "\n",
      "입학식은 타지역분들도 있어서 꼭 필수 참여는 아니세요\n",
      "\n",
      "입학식에서 수강 듣는 방법을 알려준다고 들은 기억이 있어서요\n",
      "\n",
      "네 신편입생 OT 및 입학식은 20일 오후 7시 부터 진행되구요\n",
      "\n",
      "네 이번에 저희 학교에서 입학식을 진행할 예정이에요\n",
      "\n",
      "입학식 졸업식 체육대회 학예회 가족캠프 등 활동을 지원하고 있습니다\n",
      "\n",
      "내가 마블에 입덕하게 해준 마블 입학식 영화\n",
      "\n",
      "내가 마블에 입덕하게 해준 마블 입학식 영화\n",
      "\n",
      "내가 마블에 입덕하게 해준 마블 입학식 영화\n",
      "\n",
      "나름 머리좋고 학식이 높다는 경제학자들이 어떻게 서민들의 생활을 파괴하면서까지 돈을 벌어가는지에 대해 적나라에게 설명해주는 뜻깊은 영화.\n",
      "\n"
     ]
    }
   ],
   "source": [
    "for a in texts:\n",
    "    print(a)"
   ]
  }
 ],
 "metadata": {
  "kernelspec": {
   "display_name": "base",
   "language": "python",
   "name": "python3"
  },
  "language_info": {
   "codemirror_mode": {
    "name": "ipython",
    "version": 3
   },
   "file_extension": ".py",
   "mimetype": "text/x-python",
   "name": "python",
   "nbconvert_exporter": "python",
   "pygments_lexer": "ipython3",
   "version": "3.8.19"
  }
 },
 "nbformat": 4,
 "nbformat_minor": 2
}
