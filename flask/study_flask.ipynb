{
 "cells": [
  {
   "cell_type": "markdown",
   "metadata": {},
   "source": [
    "# Hello Flask\n",
    "\n",
    "## REST(Representational State Transfer) API\n",
    "URI(Uniform Resource Identifier)를 통해 resource를 명시하고, HTTP method(GET, POST, PUT, DELETE)를 통해 해당 자원에 대한 CRUD 동장을 처리하는 API 호출 방식\n",
    "\n",
    "| HTTP method | CRUD | 설명 |     \n",
    "|------|---|---|\n",
    "| POST | Create | 서버 리소스 생성 |     \n",
    "| GET | Read | 서버 리소스 읽어오기 |     \n",
    "| PUT | Update | 서버 리소스 수정 |      \n",
    "| DELETE | Delete | 서버 리소스 삭제 |\n"
   ]
  },
  {
   "cell_type": "code",
   "execution_count": 2,
   "metadata": {},
   "outputs": [
    {
     "name": "stdout",
     "output_type": "stream",
     "text": [
      "Collecting flask\n",
      "  Downloading flask-3.0.3-py3-none-any.whl.metadata (3.2 kB)\n",
      "Requirement already satisfied: Werkzeug>=3.0.0 in /opt/anaconda3/envs/py38/lib/python3.8/site-packages (from flask) (3.0.3)\n",
      "Requirement already satisfied: Jinja2>=3.1.2 in /opt/anaconda3/envs/py38/lib/python3.8/site-packages (from flask) (3.1.4)\n",
      "Collecting itsdangerous>=2.1.2 (from flask)\n",
      "  Downloading itsdangerous-2.2.0-py3-none-any.whl.metadata (1.9 kB)\n",
      "Requirement already satisfied: click>=8.1.3 in /opt/anaconda3/envs/py38/lib/python3.8/site-packages (from flask) (8.1.7)\n",
      "Collecting blinker>=1.6.2 (from flask)\n",
      "  Downloading blinker-1.8.2-py3-none-any.whl.metadata (1.6 kB)\n",
      "Requirement already satisfied: importlib-metadata>=3.6.0 in /opt/anaconda3/envs/py38/lib/python3.8/site-packages (from flask) (7.1.0)\n",
      "Requirement already satisfied: zipp>=0.5 in /opt/anaconda3/envs/py38/lib/python3.8/site-packages (from importlib-metadata>=3.6.0->flask) (3.17.0)\n",
      "Requirement already satisfied: MarkupSafe>=2.0 in /opt/anaconda3/envs/py38/lib/python3.8/site-packages (from Jinja2>=3.1.2->flask) (2.1.5)\n",
      "Downloading flask-3.0.3-py3-none-any.whl (101 kB)\n",
      "\u001b[2K   \u001b[90m━━━━━━━━━━━━━━━━━━━━━━━━━━━━━━━━━━━━━━━━\u001b[0m \u001b[32m101.7/101.7 kB\u001b[0m \u001b[31m5.6 MB/s\u001b[0m eta \u001b[36m0:00:00\u001b[0m\n",
      "\u001b[?25hDownloading blinker-1.8.2-py3-none-any.whl (9.5 kB)\n",
      "Downloading itsdangerous-2.2.0-py3-none-any.whl (16 kB)\n",
      "Installing collected packages: itsdangerous, blinker, flask\n",
      "Successfully installed blinker-1.8.2 flask-3.0.3 itsdangerous-2.2.0\n"
     ]
    }
   ],
   "source": [
    "!pip install flask"
   ]
  },
  {
   "cell_type": "code",
   "execution_count": 3,
   "metadata": {},
   "outputs": [
    {
     "name": "stdout",
     "output_type": "stream",
     "text": [
      " * Serving Flask app '__main__'\n",
      " * Debug mode: off\n"
     ]
    },
    {
     "name": "stderr",
     "output_type": "stream",
     "text": [
      "\u001b[31m\u001b[1mWARNING: This is a development server. Do not use it in a production deployment. Use a production WSGI server instead.\u001b[0m\n",
      " * Running on http://127.0.0.1:5000\n",
      "\u001b[33mPress CTRL+C to quit\u001b[0m\n",
      "127.0.0.1 - - [15/Jun/2024 16:47:06] \"GET / HTTP/1.1\" 200 -\n",
      "127.0.0.1 - - [15/Jun/2024 16:47:06] \"\u001b[33mGET /favicon.ico HTTP/1.1\u001b[0m\" 404 -\n"
     ]
    }
   ],
   "source": [
    "from flask import Flask\n",
    "app = Flask(__name__)\n",
    "\n",
    "@app.route('/')\n",
    "def hello():\n",
    "    return 'Hello Flask'\n",
    "\n",
    "if __name__ == '__main__' :\n",
    "    app.run()"
   ]
  },
  {
   "cell_type": "markdown",
   "metadata": {},
   "source": [
    "## 동적변수 처리방법"
   ]
  },
  {
   "cell_type": "code",
   "execution_count": 4,
   "metadata": {},
   "outputs": [
    {
     "name": "stdout",
     "output_type": "stream",
     "text": [
      " * Serving Flask app '__main__'\n",
      " * Debug mode: off\n"
     ]
    },
    {
     "name": "stderr",
     "output_type": "stream",
     "text": [
      "\u001b[31m\u001b[1mWARNING: This is a development server. Do not use it in a production deployment. Use a production WSGI server instead.\u001b[0m\n",
      " * Running on http://127.0.0.1:5000\n",
      "\u001b[33mPress CTRL+C to quit\u001b[0m\n",
      "127.0.0.1 - - [15/Jun/2024 16:55:03] \"GET / HTTP/1.1\" 200 -\n",
      "127.0.0.1 - - [15/Jun/2024 16:55:10] \"GET /user/15 HTTP/1.1\" 200 -\n",
      "127.0.0.1 - - [15/Jun/2024 16:55:20] \"GET /info/seungjin HTTP/1.1\" 200 -\n",
      "127.0.0.1 - - [15/Jun/2024 16:55:47] \"GET /json/123/afsdkjh HTTP/1.1\" 200 -\n"
     ]
    }
   ],
   "source": [
    "from flask import Flask\n",
    "app = Flask(__name__)\n",
    "\n",
    "@app.route('/')\n",
    "def hello():\n",
    "    return 'Hello Flask'\n",
    "\n",
    "@app.route('/info/<name>')\n",
    "def get_name(name) :\n",
    "    return \"hello {}\".format(name)\n",
    "\n",
    "@app.route('/user/<int:id>')\n",
    "def get_user(id) :\n",
    "    return \"user id is {}\".format(id)\n",
    "\n",
    "@app.route('/json/<int:dest_id>/<message>')\n",
    "@app.route('/JSON/<int:dest_id>/<message>')\n",
    "def send_message(dest_id, message) :\n",
    "    json = {\n",
    "        \"bot_id\" : dest_id,\n",
    "        \"message\" : message\n",
    "    }\n",
    "    return json\n",
    "\n",
    "if __name__ == '__main__' :\n",
    "    app.run()\n"
   ]
  }
 ],
 "metadata": {
  "kernelspec": {
   "display_name": "py38",
   "language": "python",
   "name": "python3"
  },
  "language_info": {
   "codemirror_mode": {
    "name": "ipython",
    "version": 3
   },
   "file_extension": ".py",
   "mimetype": "text/x-python",
   "name": "python",
   "nbconvert_exporter": "python",
   "pygments_lexer": "ipython3",
   "version": "3.8.undefined"
  }
 },
 "nbformat": 4,
 "nbformat_minor": 2
}
