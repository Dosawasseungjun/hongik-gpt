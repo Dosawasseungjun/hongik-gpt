{
 "cells": [
  {
   "cell_type": "markdown",
   "metadata": {},
   "source": [
    "## semi - supervised learning을 위한 문장 분류 모델\n",
    "\n",
    "현재 데이터가 labeling이 되어있지 않은 상태고 labeling을 수기로 하지 않고 모델을 이용해서 할 것이다. \n",
    "따라서 문장을 classification하는 model을 설계할 것이다. \n",
    "\n",
    "### 1. data 불러오기\n",
    "to_label.ipynb 파일을 이용해서 label을 위한 데이터를 만들어뒀다.\n",
    "이를 불러와서 classification하는 모델을 만들어보자!"
   ]
  },
  {
   "cell_type": "code",
   "execution_count": 20,
   "metadata": {},
   "outputs": [],
   "source": [
    "import torch\n",
    "from torch import nn\n",
    "from torch.utils.data import Dataset, DataLoader\n",
    "from torch.nn.utils.rnn import pad_sequence\n",
    "from transformers import BertTokenizer, BertForSequenceClassification\n",
    "import pandas as pd\n",
    "\n",
    "import matplotlib.pyplot as plt\n",
    "import csv"
   ]
  },
  {
   "cell_type": "code",
   "execution_count": 21,
   "metadata": {},
   "outputs": [],
   "source": [
    "class SentenceDataset(Dataset) :\n",
    "    def __init__(self, sentences, labels = None) :\n",
    "        self.sentences = sentences\n",
    "        self.labels = labels\n",
    "        self.tokenizer = BertTokenizer.from_pretrained('bert-base-uncased')\n",
    "\n",
    "    def __len__(self) :\n",
    "        return len(self.sentences)\n",
    "    \n",
    "    def __getitem__(self, index) :\n",
    "        sentence = self.sentences[index]\n",
    "        inputs = self.tokenizer(sentence, return_tensors='pt', padding=True, truncation=True, max_length=512)\n",
    "        input_ids = inputs['input_ids'].squeeze()\n",
    "        attention_mask = inputs['attention_mask'].squeeze()\n",
    "        if self.labels is not None : \n",
    "            label = self.labels[index]\n",
    "            return input_ids, attention_mask, torch.tensor(label)\n",
    "        else : \n",
    "            return input_ids, attention_mask"
   ]
  },
  {
   "cell_type": "code",
   "execution_count": 22,
   "metadata": {},
   "outputs": [],
   "source": [
    "label_data_path = \"./dataset/handmade_data.csv\"\n",
    "csv_data = pd.read_csv(label_data_path)"
   ]
  },
  {
   "cell_type": "code",
   "execution_count": 23,
   "metadata": {},
   "outputs": [
    {
     "data": {
      "text/html": [
       "<div>\n",
       "<style scoped>\n",
       "    .dataframe tbody tr th:only-of-type {\n",
       "        vertical-align: middle;\n",
       "    }\n",
       "\n",
       "    .dataframe tbody tr th {\n",
       "        vertical-align: top;\n",
       "    }\n",
       "\n",
       "    .dataframe thead th {\n",
       "        text-align: right;\n",
       "    }\n",
       "</style>\n",
       "<table border=\"1\" class=\"dataframe\">\n",
       "  <thead>\n",
       "    <tr style=\"text-align: right;\">\n",
       "      <th></th>\n",
       "      <th>id</th>\n",
       "      <th>sentence</th>\n",
       "      <th>label</th>\n",
       "    </tr>\n",
       "  </thead>\n",
       "  <tbody>\n",
       "    <tr>\n",
       "      <th>700</th>\n",
       "      <td>700</td>\n",
       "      <td>홍익대학교는 언제 설립되었나요?</td>\n",
       "      <td>8</td>\n",
       "    </tr>\n",
       "    <tr>\n",
       "      <th>701</th>\n",
       "      <td>701</td>\n",
       "      <td>홍익대학교의 설립자는 누구인가요?</td>\n",
       "      <td>8</td>\n",
       "    </tr>\n",
       "    <tr>\n",
       "      <th>702</th>\n",
       "      <td>702</td>\n",
       "      <td>홍익대학교의 주요 학과는 무엇인가요?</td>\n",
       "      <td>8</td>\n",
       "    </tr>\n",
       "    <tr>\n",
       "      <th>703</th>\n",
       "      <td>703</td>\n",
       "      <td>홍익대학교의 캠퍼스는 어디에 위치해 있나요?</td>\n",
       "      <td>8</td>\n",
       "    </tr>\n",
       "    <tr>\n",
       "      <th>704</th>\n",
       "      <td>704</td>\n",
       "      <td>홍익대학교의 대표적인 학문 분야는 무엇인가요?</td>\n",
       "      <td>8</td>\n",
       "    </tr>\n",
       "    <tr>\n",
       "      <th>...</th>\n",
       "      <td>...</td>\n",
       "      <td>...</td>\n",
       "      <td>...</td>\n",
       "    </tr>\n",
       "    <tr>\n",
       "      <th>825</th>\n",
       "      <td>825</td>\n",
       "      <td>홍익대학교의 학과별 진로 상담은 어떻게 이루어지나요?</td>\n",
       "      <td>8</td>\n",
       "    </tr>\n",
       "    <tr>\n",
       "      <th>826</th>\n",
       "      <td>826</td>\n",
       "      <td>홍익대학교의 교내 예술 작품 전시는 어떻게 이루어지나요?</td>\n",
       "      <td>8</td>\n",
       "    </tr>\n",
       "    <tr>\n",
       "      <th>827</th>\n",
       "      <td>827</td>\n",
       "      <td>홍익대학교의 학내 안전 교육은 어떻게 받나요?</td>\n",
       "      <td>8</td>\n",
       "    </tr>\n",
       "    <tr>\n",
       "      <th>828</th>\n",
       "      <td>828</td>\n",
       "      <td>홍익대학교의 캠퍼스 내 편의점은 어디에 있나요?</td>\n",
       "      <td>8</td>\n",
       "    </tr>\n",
       "    <tr>\n",
       "      <th>829</th>\n",
       "      <td>829</td>\n",
       "      <td>홍익대학교의 교내 행사 일정은 어디서 확인할 수 있나요?</td>\n",
       "      <td>8</td>\n",
       "    </tr>\n",
       "  </tbody>\n",
       "</table>\n",
       "<p>130 rows × 3 columns</p>\n",
       "</div>"
      ],
      "text/plain": [
       "      id                         sentence  label\n",
       "700  700                홍익대학교는 언제 설립되었나요?      8\n",
       "701  701               홍익대학교의 설립자는 누구인가요?      8\n",
       "702  702             홍익대학교의 주요 학과는 무엇인가요?      8\n",
       "703  703         홍익대학교의 캠퍼스는 어디에 위치해 있나요?      8\n",
       "704  704        홍익대학교의 대표적인 학문 분야는 무엇인가요?      8\n",
       "..   ...                              ...    ...\n",
       "825  825    홍익대학교의 학과별 진로 상담은 어떻게 이루어지나요?      8\n",
       "826  826  홍익대학교의 교내 예술 작품 전시는 어떻게 이루어지나요?      8\n",
       "827  827        홍익대학교의 학내 안전 교육은 어떻게 받나요?      8\n",
       "828  828       홍익대학교의 캠퍼스 내 편의점은 어디에 있나요?      8\n",
       "829  829  홍익대학교의 교내 행사 일정은 어디서 확인할 수 있나요?      8\n",
       "\n",
       "[130 rows x 3 columns]"
      ]
     },
     "execution_count": 23,
     "metadata": {},
     "output_type": "execute_result"
    }
   ],
   "source": [
    "csv_data.columns\n",
    "len(csv_data)\n",
    "csv_data[csv_data['label']==8]"
   ]
  },
  {
   "cell_type": "code",
   "execution_count": 24,
   "metadata": {},
   "outputs": [
    {
     "data": {
      "text/plain": [
       "0                         학식 메뉴는 매일 바뀌나요?\n",
       "1      학식에서 제공하는 음식은 영양적으로 균형이 잘 맞춰져 있나요?\n",
       "2                   대학교 학식의 평균 가격은 얼마인가요?\n",
       "3                   채식주의자를 위한 메뉴 옵션이 있나요?\n",
       "4                      학식에서 국제 음식을 제공하나요?\n",
       "                      ...                \n",
       "925            졸업 논문 제출 후 심사 과정은 어떻게 되나요?\n",
       "926              졸업에 필요한 필수 교양 과목은 무엇인가요?\n",
       "927               졸업 요건 중 팀 프로젝트 발표가 있나요?\n",
       "928         졸업을 위해 필요한 필수 인턴십 성적 기준이 있나요?\n",
       "929             졸업 논문 작성 시 필요한 자료는 무엇인가요?\n",
       "Name: sentence, Length: 930, dtype: object"
      ]
     },
     "execution_count": 24,
     "metadata": {},
     "output_type": "execute_result"
    }
   ],
   "source": [
    "csv_data['sentence']"
   ]
  },
  {
   "cell_type": "code",
   "execution_count": 25,
   "metadata": {},
   "outputs": [],
   "source": [
    "# 패딩 적용\n",
    "def collate_fn(batch):\n",
    "    input_ids = [item[0] for item in batch]\n",
    "    attention_masks = [item[1] for item in batch]\n",
    "    \n",
    "\n",
    "    input_ids = pad_sequence(input_ids, batch_first=True, padding_value=0)\n",
    "    attention_masks = pad_sequence(attention_masks, batch_first=True, padding_value=0)\n",
    "    if len(batch[0]) == 3 :\n",
    "        labels = [item[2] for item in batch]\n",
    "        labels = torch.stack(labels)\n",
    "        return input_ids, attention_masks, labels\n",
    "    else : \n",
    "        return input_ids, attention_masks"
   ]
  },
  {
   "cell_type": "code",
   "execution_count": 26,
   "metadata": {},
   "outputs": [],
   "source": [
    "dataset = SentenceDataset(csv_data['sentence'], csv_data['label'])\n",
    "dataloader = DataLoader(dataset, batch_size=16, shuffle=True, collate_fn=collate_fn,drop_last=True)"
   ]
  },
  {
   "cell_type": "code",
   "execution_count": 27,
   "metadata": {},
   "outputs": [
    {
     "name": "stdout",
     "output_type": "stream",
     "text": [
      "930\n",
      "(tensor([  101,  1469, 30006, 30020, 29991, 30013, 29999, 30018,  1468, 30010,\n",
      "        30021, 29999, 30018, 29997, 30019, 29997, 30008, 30022, 29999, 30017,\n",
      "        30021,  1464, 30014, 29994, 30011,   100,   100,   100,  1029,   102]), tensor([1, 1, 1, 1, 1, 1, 1, 1, 1, 1, 1, 1, 1, 1, 1, 1, 1, 1, 1, 1, 1, 1, 1, 1,\n",
      "        1, 1, 1, 1, 1, 1]), tensor(2))\n",
      "(tensor([  101,  1468, 30010, 30021, 29999, 30018, 29997, 30019, 29997, 30008,\n",
      "        30022,  1464, 30014, 30025, 29999, 30009, 29997, 30008,  1469, 30006,\n",
      "        30020, 29997, 30007, 30025, 29993, 30017, 30022, 29999, 30019,  1455,\n",
      "        30006, 30000, 30006, 30025,   100,  1463, 30019, 29999, 30013, 30025,\n",
      "        30005, 30006, 29992, 30017, 30021,   100,  1463, 30008, 29993, 30019,\n",
      "        29999, 30019, 30021, 29991, 30006, 29999, 30013,  1029,   102]), tensor([1, 1, 1, 1, 1, 1, 1, 1, 1, 1, 1, 1, 1, 1, 1, 1, 1, 1, 1, 1, 1, 1, 1, 1,\n",
      "        1, 1, 1, 1, 1, 1, 1, 1, 1, 1, 1, 1, 1, 1, 1, 1, 1, 1, 1, 1, 1, 1, 1, 1,\n",
      "        1, 1, 1, 1, 1, 1, 1, 1, 1, 1, 1]), tensor(2))\n"
     ]
    }
   ],
   "source": [
    "print(len(dataset))\n",
    "print(dataset[100] )\n",
    "print(dataset[105])"
   ]
  },
  {
   "cell_type": "markdown",
   "metadata": {},
   "source": [
    "### 2. bert를 이용한 sentenceClassifier"
   ]
  },
  {
   "cell_type": "code",
   "execution_count": 28,
   "metadata": {},
   "outputs": [],
   "source": [
    "class SentenceClassifier(nn.Module) :\n",
    "    def __init__(self, num_labels) :\n",
    "        super(SentenceClassifier, self).__init__()\n",
    "        self.bert = BertForSequenceClassification.from_pretrained('bert-base-uncased', num_labels = num_labels)\n",
    "\n",
    "    def forward(self, input_ids, attention_mask) :\n",
    "        outputs = self.bert(input_ids=input_ids, attention_mask = attention_mask)\n",
    "        return outputs.logits"
   ]
  },
  {
   "cell_type": "code",
   "execution_count": 29,
   "metadata": {},
   "outputs": [
    {
     "name": "stderr",
     "output_type": "stream",
     "text": [
      "Some weights of BertForSequenceClassification were not initialized from the model checkpoint at bert-base-uncased and are newly initialized: ['classifier.bias', 'classifier.weight']\n",
      "You should probably TRAIN this model on a down-stream task to be able to use it for predictions and inference.\n"
     ]
    }
   ],
   "source": [
    "model = SentenceClassifier(10)\n",
    "criterion = nn.CrossEntropyLoss()\n",
    "# optimizer = torch.optim.Adam(model.parameters(), lr = 2e-5)\n",
    "# optimizer = torch.optim.AdamW(model.parameters(), lr = 1e-4)\n",
    "optimizer = torch.optim.AdamW(model.parameters(), lr = 2e-5)\n"
   ]
  },
  {
   "cell_type": "markdown",
   "metadata": {},
   "source": [
    "### 3. train model"
   ]
  },
  {
   "cell_type": "code",
   "execution_count": 30,
   "metadata": {},
   "outputs": [],
   "source": [
    "def train_model(model, dataloader, criterion, optimizer, epochs = 5) :\n",
    "    model.train()\n",
    "    epoch_losses = []\n",
    "    for epoch in range(epochs) :\n",
    "        epoch_loss = 0\n",
    "        for input_ids, attention_mask, labels in dataloader :\n",
    "            optimizer.zero_grad()\n",
    "            outputs = model(input_ids, attention_mask)\n",
    "            loss = criterion(outputs, labels)\n",
    "            loss.backward()\n",
    "            optimizer.step()\n",
    "            epoch_loss += loss.item()\n",
    "        epoch_losses.append(epoch_loss / len(dataloader))\n",
    "        print(f\"Epoch {epoch+1}, Loss : {loss.item()}\")\n",
    "    return epoch_losses"
   ]
  },
  {
   "cell_type": "code",
   "execution_count": 31,
   "metadata": {},
   "outputs": [],
   "source": [
    "def plot_losses(losses) : \n",
    "    plt.figure(figsize=(10, 5))\n",
    "    plt.plot(range(1, len(losses) + 1), losses, marker='o')\n",
    "    plt.title('Training Loss per Epoch')\n",
    "    plt.xlabel('Epoch')\n",
    "    plt.ylabel('Loss')\n",
    "    plt.grid(True)\n",
    "    plt.show()"
   ]
  },
  {
   "cell_type": "code",
   "execution_count": 32,
   "metadata": {},
   "outputs": [
    {
     "name": "stdout",
     "output_type": "stream",
     "text": [
      "Epoch 1, Loss : 0.9290310144424438\n",
      "Epoch 2, Loss : 0.6348378658294678\n",
      "Epoch 3, Loss : 0.24706882238388062\n",
      "Epoch 4, Loss : 0.29424646496772766\n",
      "Epoch 5, Loss : 0.06893549859523773\n",
      "Epoch 6, Loss : 0.18637357652187347\n",
      "Epoch 7, Loss : 0.5173147320747375\n",
      "Epoch 8, Loss : 0.0157772246748209\n",
      "Epoch 9, Loss : 0.013372169807553291\n",
      "Epoch 10, Loss : 0.0442805215716362\n"
     ]
    },
    {
     "data": {
      "image/png": "[encoded data removed]",
      "text/plain": [
       "<Figure size 1000x500 with 1 Axes>"
      ]
     },
     "metadata": {},
     "output_type": "display_data"
    }
   ],
   "source": [
    "epoch_losses = train_model(model, dataloader, criterion, optimizer, 10) \n",
    "plot_losses(epoch_losses)"
   ]
  },
  {
   "cell_type": "markdown",
   "metadata": {},
   "source": [
    "### evaluate model"
   ]
  },
  {
   "cell_type": "code",
   "execution_count": 33,
   "metadata": {},
   "outputs": [],
   "source": [
    "def evaluate_model(model, dataloader) :\n",
    "    model.eval()\n",
    "    correct = 0\n",
    "    total = 0\n",
    "    with torch.no_grad() :\n",
    "        for input_ids, attention_mask, labels in dataloader :\n",
    "            outputs = model(input_ids, attention_mask)\n",
    "            _, predicted = torch.max(outputs, 1)\n",
    "            total += labels.size(0)\n",
    "            correct += (predicted == labels).sum().item()\n",
    "    print(f\"Accuracy : {correct / total * 100:.2f}%\")"
   ]
  },
  {
   "cell_type": "code",
   "execution_count": 34,
   "metadata": {},
   "outputs": [
    {
     "name": "stdout",
     "output_type": "stream",
     "text": [
      "Accuracy : 98.28%\n"
     ]
    }
   ],
   "source": [
    "evaluate_model(model, dataloader)"
   ]
  },
  {
   "cell_type": "markdown",
   "metadata": {},
   "source": [
    "### 4. test model\n",
    "label이 붙지 않은 데이터를 넣어보며 테스트를 해보자. "
   ]
  },
  {
   "cell_type": "code",
   "execution_count": 35,
   "metadata": {},
   "outputs": [],
   "source": [
    "# 테스트 데이터 (라벨이 없는 경우)\n",
    "test_sentences = [\n",
    "    \"홍익대학교는 이사장이 이면영입니까?.\",\n",
    "    \"학식이 맛있는지 아닌지 어떻게 알죠?\",\n",
    "    \"홍익대학교는 명문 대학교입니다.\",\n",
    "    \"홍익대학교 pc실이 어디였죠?\",\n",
    "    \"홍익대학교 스케쥴이 궁금합니다.\",\n",
    "    \"컴공 과사무실 번호 좀 알려주세요\",\n",
    "    \"회화과 공지사항 좀 보여줘\",\n",
    "    \"오늘 비가 올까?\",\n",
    "    \"열람실 자리가 있어?\",\n",
    "    \"졸업 요건이 뭐가 부족한지 알고싶어\"\n",
    "]\n"
   ]
  },
  {
   "cell_type": "code",
   "execution_count": 36,
   "metadata": {},
   "outputs": [],
   "source": [
    "test_dataset = SentenceDataset(test_sentences)\n",
    "test_dataloader = DataLoader(test_dataset, batch_size=2, shuffle=False, collate_fn=collate_fn)"
   ]
  },
  {
   "cell_type": "code",
   "execution_count": 37,
   "metadata": {},
   "outputs": [],
   "source": [
    "def predict(model, dataloader):\n",
    "    model.eval()\n",
    "    predictions = []\n",
    "    with torch.no_grad():\n",
    "        for input_ids, attention_mask in dataloader:\n",
    "            outputs = model(input_ids, attention_mask)\n",
    "            _, predicted = torch.max(outputs, 1)\n",
    "            predictions.extend(predicted.cpu().numpy())\n",
    "    return predictions"
   ]
  },
  {
   "cell_type": "code",
   "execution_count": 38,
   "metadata": {},
   "outputs": [
    {
     "name": "stdout",
     "output_type": "stream",
     "text": [
      "Sentence: 홍익대학교는 이사장이 이면영입니까?.\t Prediction: 8\n",
      "\n",
      "Sentence: 학식이 맛있는지 아닌지 어떻게 알죠?\t Prediction: 1\n",
      "\n",
      "Sentence: 홍익대학교는 명문 대학교입니다.\t Prediction: 8\n",
      "\n",
      "Sentence: 홍익대학교 pc실이 어디였죠?\t Prediction: 6\n",
      "\n",
      "Sentence: 홍익대학교 스케쥴이 궁금합니다.\t Prediction: 6\n",
      "\n",
      "Sentence: 컴공 과사무실 번호 좀 알려주세요\t Prediction: 3\n",
      "\n",
      "Sentence: 회화과 공지사항 좀 보여줘\t Prediction: 5\n",
      "\n",
      "Sentence: 오늘 비가 올까?\t Prediction: 6\n",
      "\n",
      "Sentence: 열람실 자리가 있어?\t Prediction: 7\n",
      "\n",
      "Sentence: 졸업 요건이 뭐가 부족한지 알고싶어\t Prediction: 9\n",
      "\n"
     ]
    }
   ],
   "source": [
    "test_predictions = predict(model, test_dataloader)\n",
    "for sentence, prediction in zip(test_sentences, test_predictions) : \n",
    "    print(f\"Sentence: {sentence}\\t Prediction: {prediction}\\n\")"
   ]
  },
  {
   "cell_type": "markdown",
   "metadata": {},
   "source": [
    "### 5. model save\n",
    "\n",
    "모델을 저장하자"
   ]
  },
  {
   "cell_type": "code",
   "execution_count": 40,
   "metadata": {},
   "outputs": [],
   "source": [
    "save_path = \"label_class_model\"\n",
    "torch.save(model.state_dict(), save_path)"
   ]
  }
 ],
 "metadata": {
  "kernelspec": {
   "display_name": "py38",
   "language": "python",
   "name": "python3"
  },
  "language_info": {
   "codemirror_mode": {
    "name": "ipython",
    "version": 3
   },
   "file_extension": ".py",
   "mimetype": "text/x-python",
   "name": "python",
   "nbconvert_exporter": "python",
   "pygments_lexer": "ipython3",
   "version": "3.8.19"
  }
 },
 "nbformat": 4,
 "nbformat_minor": 2
}
