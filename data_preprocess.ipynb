{
 "cells": [
  {
   "cell_type": "code",
   "execution_count": 21,
   "metadata": {},
   "outputs": [],
   "source": [
    "import os\n",
    "import glob\n",
    "import json\n",
    "import pandas as pd"
   ]
  },
  {
   "cell_type": "code",
   "execution_count": 16,
   "metadata": {},
   "outputs": [],
   "source": [
    "original_file_path = \"dataset/원본데이터\"\n",
    "after_file_path='dataset'\n",
    "file_name='all_data.txt'\n",
    "texts = []"
   ]
  },
  {
   "cell_type": "code",
   "execution_count": 17,
   "metadata": {},
   "outputs": [],
   "source": [
    "def preprocessing(cur_file_path):\n",
    "\n",
    "    for name in os.listdir(cur_file_path):\n",
    "        if os.path.isdir(os.path.join(cur_file_path,name)):\n",
    "            preprocessing(os.path.join(cur_file_path,name))\n",
    "        else:\n",
    "            try:\n",
    "                with open(os.path.join(cur_file_path,name),'r',encoding='utf-8') as f:\n",
    "                    data=json.load(f)\n",
    "                    for text in data['info'][0]['annotations']['lines']:\n",
    "                        temp=text['norm_text']\n",
    "                        if len(temp)==0:\n",
    "                            continue\n",
    "                        if temp[0]=='A' or temp[0]=='B':\n",
    "                            temp=temp[2:]\n",
    "                            temp=temp.lstrip()\n",
    "                        texts.append(temp)\n",
    "            except:\n",
    "                print(f\"{name} has errors\")"
   ]
  },
  {
   "cell_type": "code",
   "execution_count": 18,
   "metadata": {},
   "outputs": [
    {
     "name": "stdout",
     "output_type": "stream",
     "text": [
      ".DS_Store has errors\n",
      ".DS_Store has errors\n",
      "KAKAO_1648_13.json has errors\n",
      "shopping4_0842.json has errors\n",
      ".DS_Store has errors\n"
     ]
    }
   ],
   "source": [
    "preprocessing(original_file_path)"
   ]
  },
  {
   "cell_type": "code",
   "execution_count": 19,
   "metadata": {},
   "outputs": [],
   "source": [
    "\n",
    "with open(os.path.join(after_file_path,file_name),'w') as f:\n",
    "    for text in texts:\n",
    "        f.write(text+'\\n')        "
   ]
  },
  {
   "cell_type": "code",
   "execution_count": 26,
   "metadata": {},
   "outputs": [],
   "source": [
    "data=pd.read_table('dataset/ratings.txt')\n",
    "\n",
    "with open(os.path.join(after_file_path, file_name), \"a\") as f:\n",
    "    for text in data['document']:\n",
    "        f.write(str(text)+'\\n')"
   ]
  },
  {
   "cell_type": "code",
   "execution_count": 8,
   "metadata": {},
   "outputs": [
    {
     "name": "stdout",
     "output_type": "stream",
     "text": [
      "잡화 중에 어떤걸 자주 사는 편이야?\n",
      "나는 머리핀을 그렇게 사모으게되\n",
      "나는 캡모자 좋아해\n",
      "나는 반지 좋아해 매일 잃어버리기도 하고\n",
      "내가 귀걸이를 안하니까 머리핀에 집착아닌 집착을 하게되네\n",
      "근데 여자들 그 작은 물건들이 괘 비싸더라\n",
      "맞아 조그만 것일수록 더 비싼 것 같기도 하고\n",
      "작고 반짝이는게 더 비싼거야\n",
      "머리핀도 내가 볼 땐 다 비슷해\n",
      "**는 머리가 기니까 머리핀이 눈에 많이 들어오겠다\n",
      "남들이 보면 다 비슷하지만 내가 보면 다 달라,\n",
      "진주 달린거 많던데 요즘\n",
      "모자를 안 써서 그런가 캡모자도 내 눈엔 죄다 비슷한걸\n",
      "맞어 종류별로 다 모으는 중이야\n",
      "캡모자는 깔별로 사는거야 그냥\n"
     ]
    }
   ],
   "source": [
    "# with open('dataset/원본데이터/주제별 일상 대화 데이터/TL_01. KAKAO/KAKAO_5063_18.json','r') as f:\n",
    "#     data=json.load(f)\n",
    "#     for text in data['info'][0]['annotations']['lines']:\n",
    "#         print(text['norm_text'])"
   ]
  }
 ],
 "metadata": {
  "kernelspec": {
   "display_name": "base",
   "language": "python",
   "name": "python3"
  },
  "language_info": {
   "codemirror_mode": {
    "name": "ipython",
    "version": 3
   },
   "file_extension": ".py",
   "mimetype": "text/x-python",
   "name": "python",
   "nbconvert_exporter": "python",
   "pygments_lexer": "ipython3",
   "version": "3.11.3"
  }
 },
 "nbformat": 4,
 "nbformat_minor": 2
}
